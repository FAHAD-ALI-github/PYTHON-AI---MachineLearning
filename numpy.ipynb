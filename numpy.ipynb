{
 "cells": [
  {
   "cell_type": "code",
   "execution_count": 10,
   "metadata": {},
   "outputs": [
    {
     "name": "stdout",
     "output_type": "stream",
     "text": [
      "Original Array:\n",
      "[[ -5   9  -2  -1]\n",
      " [ -5 -10  -4  -6]\n",
      " [  4   2  -6   4]]\n"
     ]
    }
   ],
   "source": [
    "\n",
    "import numpy as np\n",
    "# creating a 2D array with shape (3, 4) and random values between -10 to 10\n",
    "arr = np.random.randint(-10, 10, size=(3, 4))\n",
    "print(f\"Original Array:\\n{arr}\")\n"
   ]
  },
  {
   "cell_type": "code",
   "execution_count": 11,
   "metadata": {},
   "outputs": [
    {
     "name": "stdout",
     "output_type": "stream",
     "text": [
      "<class 'numpy.ndarray'>\n"
     ]
    }
   ],
   "source": [
    "print(type(arr))"
   ]
  },
  {
   "cell_type": "code",
   "execution_count": 12,
   "metadata": {},
   "outputs": [
    {
     "name": "stdout",
     "output_type": "stream",
     "text": [
      "1.26.4\n"
     ]
    }
   ],
   "source": [
    "print(np.__version__)"
   ]
  },
  {
   "cell_type": "code",
   "execution_count": 13,
   "metadata": {},
   "outputs": [
    {
     "name": "stdout",
     "output_type": "stream",
     "text": [
      "[1 2 3 4 5]\n"
     ]
    }
   ],
   "source": [
    "# using a tuple to create an array of objects\n",
    "\n",
    "arr = np.array((1, 2, 3, 4, 5))\n",
    "\n",
    "print(arr)"
   ]
  },
  {
   "cell_type": "code",
   "execution_count": 14,
   "metadata": {},
   "outputs": [
    {
     "name": "stdout",
     "output_type": "stream",
     "text": [
      "[[[1 2 3]\n",
      "  [4 5 6]]\n",
      "\n",
      " [[1 2 3]\n",
      "  [4 5 6]]]\n"
     ]
    }
   ],
   "source": [
    "#  three dim array\n",
    "arr = np.array([[[1, 2, 3], [4, 5, 6]], [[1, 2, 3], [4, 5, 6]]])\n",
    "\n",
    "print(arr)"
   ]
  },
  {
   "cell_type": "code",
   "execution_count": 15,
   "metadata": {},
   "outputs": [
    {
     "name": "stdout",
     "output_type": "stream",
     "text": [
      "------------------------\n",
      "Shape of the 4D array: (2, 3, 4, 5)\n",
      "Number of dimensions: 4\n",
      "\n",
      "The 4D array:\n",
      "[[[[2 1 2 0 4]\n",
      "   [8 8 0 5 2]\n",
      "   [6 0 2 3 3]\n",
      "   [9 4 6 1 1]]\n",
      "\n",
      "  [[5 6 5 5 3]\n",
      "   [8 6 2 5 8]\n",
      "   [1 9 4 1 9]\n",
      "   [2 2 6 4 1]]\n",
      "\n",
      "  [[5 3 5 8 6]\n",
      "   [6 5 9 4 6]\n",
      "   [4 9 9 4 8]\n",
      "   [0 7 3 1 7]]]\n",
      "\n",
      "\n",
      " [[[6 9 7 3 7]\n",
      "   [0 3 7 9 5]\n",
      "   [4 6 0 8 1]\n",
      "   [8 8 0 3 0]]\n",
      "\n",
      "  [[4 1 0 1 0]\n",
      "   [9 1 9 5 3]\n",
      "   [1 6 6 5 5]\n",
      "   [7 7 1 9 1]]\n",
      "\n",
      "  [[7 5 2 0 5]\n",
      "   [7 0 0 2 8]\n",
      "   [3 0 5 9 3]\n",
      "   [7 2 7 0 7]]]]\n"
     ]
    }
   ],
   "source": [
    "\n",
    "print(\"------------------------\")\n",
    "\n",
    "# 4D array with shape (2, 3, 4, 5)\n",
    "four_dim_array = np.random.randint(0, 10, size=(2, 3, 4, 5), dtype=np.int32)\n",
    "\n",
    "print(\"Shape of the 4D array:\", four_dim_array.shape)\n",
    "print(\"Number of dimensions:\", four_dim_array.ndim)\n",
    "print(\"\\nThe 4D array:\")\n",
    "print(four_dim_array)\n"
   ]
  },
  {
   "cell_type": "code",
   "execution_count": 16,
   "metadata": {},
   "outputs": [
    {
     "name": "stdout",
     "output_type": "stream",
     "text": [
      "[[[[[1 2 3 4 5 6 7 8]]]]]\n",
      "number of dimensions : 5\n"
     ]
    }
   ],
   "source": [
    "\n",
    "arr = np.array([1, 2, 3, 4 , 5, 6, 7, 8], ndmin=5)\n",
    "\n",
    "print(arr)\n",
    "print('number of dimensions :', arr.ndim)"
   ]
  },
  {
   "cell_type": "code",
   "execution_count": 19,
   "metadata": {},
   "outputs": [
    {
     "name": "stdout",
     "output_type": "stream",
     "text": [
      "[[[[[ 1  2  3  4  5  6  7  8  9 10]]]]]\n",
      "number of dimensions : 5\n",
      "(1, 1, 1, 1, 10)\n"
     ]
    }
   ],
   "source": [
    "# number list to array\n",
    "\n",
    "arr = np.array([1, 2, 3, 4, 5, 6, 7, 8, 9, 10], ndmin = 5)\n",
    "\n",
    "print(arr)\n",
    "print('number of dimensions :', arr.ndim)\n",
    "print(arr.shape)"
   ]
  },
  {
   "cell_type": "code",
   "execution_count": 20,
   "metadata": {},
   "outputs": [
    {
     "name": "stdout",
     "output_type": "stream",
     "text": [
      "[10  2  3  4  5]\n"
     ]
    }
   ],
   "source": [
    "# creating a 1D array\n",
    "arr = np.array([1, 2, 3, 4, 5])\n",
    "\n",
    "# setting the first element to 10\n",
    "arr[0] = 10\n",
    "print(arr)\n"
   ]
  },
  {
   "cell_type": "code",
   "execution_count": 21,
   "metadata": {},
   "outputs": [
    {
     "name": "stdout",
     "output_type": "stream",
     "text": [
      "[[1 2 3]\n",
      " [4 5 6]\n",
      " [7 8 9]]\n"
     ]
    }
   ],
   "source": [
    "# creating a 2D array\n",
    "arr_2d = np.array([[1, 2, 3], [4, 5, 6], [7, 8, 9]])\n",
    "print(arr_2d)"
   ]
  },
  {
   "cell_type": "code",
   "execution_count": 23,
   "metadata": {},
   "outputs": [],
   "source": [
    "# creating two 1D arrays\n",
    "arr1 = np.array([1, 2, 3])\n",
    "arr2 = np.array([4, 5, 6])\n"
   ]
  },
  {
   "cell_type": "code",
   "execution_count": 24,
   "metadata": {},
   "outputs": [
    {
     "name": "stdout",
     "output_type": "stream",
     "text": [
      "[5 7 9]\n"
     ]
    }
   ],
   "source": [
    "# adding the two arrays\n",
    "print(arr1 + arr2)\n"
   ]
  },
  {
   "cell_type": "code",
   "execution_count": 25,
   "metadata": {},
   "outputs": [],
   "source": [
    "# creating a 2D array\n",
    "arr_2d = np.array([[1, 2, 3], [4, 5, 6], [7, 8, 9]])\n"
   ]
  },
  {
   "cell_type": "code",
   "execution_count": 26,
   "metadata": {},
   "outputs": [
    {
     "name": "stdout",
     "output_type": "stream",
     "text": [
      "[[ 2  3  4]\n",
      " [ 5  6  7]\n",
      " [ 8  9 10]]\n"
     ]
    }
   ],
   "source": [
    "# adding 1 to each element of the 2D array\n",
    "print(arr_2d + 1)\n"
   ]
  },
  {
   "cell_type": "code",
   "execution_count": 27,
   "metadata": {},
   "outputs": [
    {
     "name": "stdout",
     "output_type": "stream",
     "text": [
      "[11 12 13]\n"
     ]
    }
   ],
   "source": [
    "# creating a 1D array\n",
    "arr1 = np.array([1, 2, 3])\n",
    "\n",
    "# creating a scalar\n",
    "arr2 = 10\n",
    "\n",
    "# adding the scalar to the array\n",
    "print(arr1 + arr2)\n"
   ]
  },
  {
   "cell_type": "code",
   "execution_count": 28,
   "metadata": {},
   "outputs": [
    {
     "name": "stdout",
     "output_type": "stream",
     "text": [
      "[[ 0  2  4]\n",
      " [ 3  5  7]\n",
      " [ 6  8 10]]\n"
     ]
    }
   ],
   "source": [
    "# creating a 2D array\n",
    "arr_2d = np.array([[1, 2, 3], [4, 5, 6], [7, 8, 9]])\n",
    "\n",
    "# creating a 1D array\n",
    "arr_1d = np.array([-1, 0, 1])\n",
    "\n",
    "# adding the 1D array to the 2D array\n",
    "print(arr_2d + arr_1d)"
   ]
  },
  {
   "cell_type": "code",
   "execution_count": 32,
   "metadata": {},
   "outputs": [
    {
     "name": "stdout",
     "output_type": "stream",
     "text": [
      "4.5\n"
     ]
    },
    {
     "ename": "AttributeError",
     "evalue": "'numpy.ndarray' object has no attribute 'median'",
     "output_type": "error",
     "traceback": [
      "\u001b[1;31m---------------------------------------------------------------------------\u001b[0m",
      "\u001b[1;31mAttributeError\u001b[0m                            Traceback (most recent call last)",
      "Cell \u001b[1;32mIn[32], line 10\u001b[0m\n\u001b[0;32m      7\u001b[0m \u001b[38;5;28mprint\u001b[39m(arr\u001b[38;5;241m.\u001b[39mmean())\n\u001b[0;32m      9\u001b[0m \u001b[38;5;66;03m# calculating the median of the array\u001b[39;00m\n\u001b[1;32m---> 10\u001b[0m \u001b[38;5;28mprint\u001b[39m(\u001b[43marr\u001b[49m\u001b[38;5;241;43m.\u001b[39;49m\u001b[43mmedian\u001b[49m())\n\u001b[0;32m     12\u001b[0m \u001b[38;5;66;03m# calculating the variance of the array\u001b[39;00m\n\u001b[0;32m     13\u001b[0m \u001b[38;5;28mprint\u001b[39m(arr\u001b[38;5;241m.\u001b[39mvar())\n",
      "\u001b[1;31mAttributeError\u001b[0m: 'numpy.ndarray' object has no attribute 'median'"
     ]
    }
   ],
   "source": [
    "import numpy as np\n",
    "\n",
    "# creating a 1D array\n",
    "arr = np.array([1, 2, 3, 4, 5, 6, 7, 8])\n",
    "\n",
    "# calculating the mean of the array\n",
    "print(arr.mean())\n",
    "\n",
    "# calculating the median of the array\n",
    "print(arr.median())\n",
    "\n",
    "# calculating the variance of the array\n",
    "print(arr.var())\n",
    "\n",
    "# calculating the standard deviation of the array\n",
    "print(arr.std())\n",
    "\n",
    "# calculating the maximum of the array\n",
    "print(arr.max())\n",
    "\n",
    "# calculating the minimum of the array\n",
    "print(arr.min())\n",
    "\n",
    "# calculating the sum of the array\n",
    "print(arr.sum())\n",
    "\n",
    "# creating a 2D array\n",
    "arr_2d = np.array([[1, 2, 3], [4, 5, 6], [7, 8, 9]])\n",
    "\n",
    "# calculating the mean of the 2D array\n",
    "print(arr_2d.mean())\n",
    "\n",
    "# calculating the median of the 2D array\n",
    "print(arr_2d.median())\n",
    "\n",
    "# calculating the variance of the 2D array\n",
    "print(arr_2d.var())\n",
    "\n",
    "# calculating the standard deviation of the 2D array\n",
    "print(arr_2d.std())"
   ]
  },
  {
   "cell_type": "code",
   "execution_count": null,
   "metadata": {},
   "outputs": [],
   "source": []
  }
 ],
 "metadata": {
  "kernelspec": {
   "display_name": "python_ml",
   "language": "python",
   "name": "python3"
  },
  "language_info": {
   "codemirror_mode": {
    "name": "ipython",
    "version": 3
   },
   "file_extension": ".py",
   "mimetype": "text/x-python",
   "name": "python",
   "nbconvert_exporter": "python",
   "pygments_lexer": "ipython3",
   "version": "3.12.2"
  }
 },
 "nbformat": 4,
 "nbformat_minor": 2
}
