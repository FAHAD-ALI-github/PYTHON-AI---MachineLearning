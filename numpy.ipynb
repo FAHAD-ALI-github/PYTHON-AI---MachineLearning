{
 "cells": [
  {
   "cell_type": "code",
   "execution_count": 2,
   "metadata": {},
   "outputs": [
    {
     "name": "stdout",
     "output_type": "stream",
     "text": [
      "Original Array:\n",
      "[[ -2  -6  -4  -4]\n",
      " [  9   2   6   2]\n",
      " [  7   2 -10   8]]\n"
     ]
    }
   ],
   "source": [
    "\n",
    "import numpy as np\n",
    "# creating a 2D array with shape (3, 4) and random values between -10 to 10\n",
    "arr = np.random.randint(-10, 10, size=(3, 4))\n",
    "print(f\"Original Array:\\n{arr}\")\n"
   ]
  },
  {
   "cell_type": "code",
   "execution_count": 3,
   "metadata": {},
   "outputs": [
    {
     "name": "stdout",
     "output_type": "stream",
     "text": [
      "<class 'numpy.ndarray'>\n"
     ]
    }
   ],
   "source": [
    "print(type(arr))"
   ]
  },
  {
   "cell_type": "code",
   "execution_count": 4,
   "metadata": {},
   "outputs": [
    {
     "name": "stdout",
     "output_type": "stream",
     "text": [
      "1.26.4\n"
     ]
    }
   ],
   "source": [
    "print(np.__version__)"
   ]
  },
  {
   "cell_type": "code",
   "execution_count": 5,
   "metadata": {},
   "outputs": [
    {
     "name": "stdout",
     "output_type": "stream",
     "text": [
      "[1 2 3 4 5]\n"
     ]
    }
   ],
   "source": [
    "# using a tuple to create an array of objects\n",
    "\n",
    "arr = np.array((1, 2, 3, 4, 5))\n",
    "\n",
    "print(arr)"
   ]
  },
  {
   "cell_type": "code",
   "execution_count": 6,
   "metadata": {},
   "outputs": [
    {
     "name": "stdout",
     "output_type": "stream",
     "text": [
      "[[[1 2 3]\n",
      "  [4 5 6]]\n",
      "\n",
      " [[1 2 3]\n",
      "  [4 5 6]]]\n"
     ]
    }
   ],
   "source": [
    "#  three dim array\n",
    "arr = np.array([[[1, 2, 3], [4, 5, 6]], [[1, 2, 3], [4, 5, 6]]])\n",
    "\n",
    "print(arr)"
   ]
  },
  {
   "cell_type": "code",
   "execution_count": 7,
   "metadata": {},
   "outputs": [
    {
     "name": "stdout",
     "output_type": "stream",
     "text": [
      "------------------------\n",
      "Shape of the 4D array: (2, 3, 4, 5)\n",
      "Number of dimensions: 4\n",
      "\n",
      "The 4D array:\n",
      "[[[[2 0 1 8 1]\n",
      "   [0 1 1 9 0]\n",
      "   [0 8 9 8 5]\n",
      "   [6 3 4 1 0]]\n",
      "\n",
      "  [[1 5 0 4 7]\n",
      "   [0 4 2 3 8]\n",
      "   [6 2 3 3 5]\n",
      "   [8 8 1 7 6]]\n",
      "\n",
      "  [[1 5 7 9 7]\n",
      "   [7 1 1 5 3]\n",
      "   [6 0 9 2 8]\n",
      "   [6 2 6 4 3]]]\n",
      "\n",
      "\n",
      " [[[2 2 1 8 5]\n",
      "   [0 9 3 8 7]\n",
      "   [9 5 9 9 7]\n",
      "   [1 8 1 9 6]]\n",
      "\n",
      "  [[1 6 4 5 3]\n",
      "   [5 1 5 6 4]\n",
      "   [7 8 2 9 7]\n",
      "   [9 1 0 9 4]]\n",
      "\n",
      "  [[1 1 2 8 2]\n",
      "   [9 5 4 3 7]\n",
      "   [1 0 6 3 4]\n",
      "   [7 9 6 9 1]]]]\n"
     ]
    }
   ],
   "source": [
    "\n",
    "print(\"------------------------\")\n",
    "\n",
    "# 4D array with shape (2, 3, 4, 5)\n",
    "four_dim_array = np.random.randint(0, 10, size=(2, 3, 4, 5), dtype=np.int32)\n",
    "\n",
    "print(\"Shape of the 4D array:\", four_dim_array.shape)\n",
    "print(\"Number of dimensions:\", four_dim_array.ndim)\n",
    "print(\"\\nThe 4D array:\")\n",
    "print(four_dim_array)\n"
   ]
  },
  {
   "cell_type": "code",
   "execution_count": 8,
   "metadata": {},
   "outputs": [
    {
     "name": "stdout",
     "output_type": "stream",
     "text": [
      "[[[[[1 2 3 4 5 6 7 8]]]]]\n",
      "number of dimensions : 5\n"
     ]
    }
   ],
   "source": [
    "\n",
    "arr = np.array([1, 2, 3, 4 , 5, 6, 7, 8], ndmin=5)\n",
    "\n",
    "print(arr)\n",
    "print('number of dimensions :', arr.ndim)"
   ]
  },
  {
   "cell_type": "code",
   "execution_count": 9,
   "metadata": {},
   "outputs": [
    {
     "name": "stdout",
     "output_type": "stream",
     "text": [
      "[ 1  2  3  4  5  6  7  8  9 10]\n",
      "number of dimensions : 1\n",
      "(10,)\n"
     ]
    }
   ],
   "source": [
    "# number list to array\n",
    "\n",
    "arr = np.array([1, 2, 3, 4, 5, 6, 7, 8, 9, 10])\n",
    "\n",
    "print(arr)\n",
    "print('number of dimensions :', arr.ndim)\n",
    "print(arr.shape)"
   ]
  },
  {
   "cell_type": "code",
   "execution_count": null,
   "metadata": {},
   "outputs": [],
   "source": []
  }
 ],
 "metadata": {
  "kernelspec": {
   "display_name": "python_ml",
   "language": "python",
   "name": "python3"
  },
  "language_info": {
   "codemirror_mode": {
    "name": "ipython",
    "version": 3
   },
   "file_extension": ".py",
   "mimetype": "text/x-python",
   "name": "python",
   "nbconvert_exporter": "python",
   "pygments_lexer": "ipython3",
   "version": "3.12.2"
  }
 },
 "nbformat": 4,
 "nbformat_minor": 2
}
